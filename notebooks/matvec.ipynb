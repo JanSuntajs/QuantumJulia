{
 "cells": [
  {
   "cell_type": "markdown",
   "metadata": {},
   "source": [
    "# Linear algebra operations in Julia\n",
    "\n",
    "This is a brief overview of the linear algebra functionalities that are readily available to Julia inside the\n",
    "[`LinearAlgebra`](https://docs.julialang.org/en/v1/stdlib/LinearAlgebra/) library. In Julia (as in much of scientific computation), dense linear algebra operations are based on [LAPACK](https://www.netlib.org/lapack/), which is itself built on top of basic linear algebra routines known as [BLAS](https://www.netlib.org/blas/). By default, `LinearAlgebra` ships with `OpenBLAS`, but other, more performant options are also available. See for instance [MKL for Julia](https://github.com/JuliaLinearAlgebra/MKL.jl) (which may or may not perform on Apple silicon processors).\n",
    "\n",
    "Interfaces for working with both `BLAS` and `LAPACK` routines directly are readily available:\n",
    "\n",
    "* [BLAS functions](https://docs.julialang.org/en/v1/stdlib/LinearAlgebra/#BLAS-functions)\n",
    "* [LAPACK functions](https://docs.julialang.org/en/v1/stdlib/LinearAlgebra/#man-linalg-lapack-functions)\n",
    "\n",
    "For working with sparse arrays, one typically uses the [SparseArrays](https://docs.julialang.org/en/v1/stdlib/SparseArrays/) library. We also note a [host of external packages](https://docs.julialang.org/en/v1/stdlib/SparseArrays/#Noteworthy-External-Sparse-Packages), such as the [KrylovKit](https://github.com/Jutho/KrylovKit.jl)\n",
    "which we also employ in this project."
   ]
  },
  {
   "cell_type": "code",
   "execution_count": 3,
   "metadata": {},
   "outputs": [],
   "source": [
    "using LinearAlgebra\n",
    "using SparseArrays\n",
    "using BenchmarkTools\n",
    "using Random"
   ]
  },
  {
   "cell_type": "markdown",
   "metadata": {},
   "source": [
    "## Some basic notes\n",
    "\n",
    "First things first, let us briefly discuss basic data containers we would typically use in our numerical calculations - vectors, arrays, matrices (which are actually just an alias for 2D arrays), vectors of vectors ... [This](https://www.matecdev.com/posts/julia-array-initialize.html) is a good starting resource for those wishing to know more."
   ]
  },
  {
   "cell_type": "code",
   "execution_count": 35,
   "metadata": {},
   "outputs": [
    {
     "name": "stdout",
     "output_type": "stream",
     "text": [
      "Type of v1: Vector{Int64}\n",
      "Type of v2: Vector{Float64}\n",
      "Type of v3: Vector{Vector}\n"
     ]
    }
   ],
   "source": [
    "# to construct a vector: note the square brackets and commas\n",
    "v1 = [1, 2, 3]\n",
    "println(\"Type of v1: \", typeof(v1))\n",
    "v2 = [1., 2, 3]\n",
    "println(\"Type of v2: \", typeof(v2))\n",
    "# this would also create a vector (of vectors)\n",
    "v3 = [[1, 2, 3], [\"s\", \"d\"], [1.]]\n",
    "println(\"Type of v3: \", typeof(v3))\n",
    "# "
   ]
  },
  {
   "cell_type": "markdown",
   "metadata": {},
   "source": [
    "To create an array/ matrix, do the following:"
   ]
  },
  {
   "cell_type": "code",
   "execution_count": 37,
   "metadata": {},
   "outputs": [
    {
     "data": {
      "text/plain": [
       "3×3 Matrix{Int64}:\n",
       " 1  2  3\n",
       " 4  5  6\n",
       " 7  8  9"
      ]
     },
     "metadata": {},
     "output_type": "display_data"
    }
   ],
   "source": [
    "A = [1 2 3; 4 5 6; 7 8 9]"
   ]
  },
  {
   "cell_type": "code",
   "execution_count": 41,
   "metadata": {},
   "outputs": [
    {
     "name": "stdout",
     "output_type": "stream",
     "text": [
      "true\n",
      "true\n",
      "false\n"
     ]
    }
   ],
   "source": [
    "# matrix is a subtype of the more general Array type\n",
    "println(Matrix <: Array)\n",
    "# What about vectors?\n",
    "println(Vector <: Array)\n",
    "# what about vectors and matrices?\n",
    "println(Vector <: Matrix)"
   ]
  },
  {
   "cell_type": "markdown",
   "metadata": {},
   "source": [
    "When constructing, bear this in mind: \n",
    "\n",
    "when constructing vectors, each element can be separated either by commas or semicolons; however, when separating by whitespace, that creates a matrix, which is a different type of entity in Julia."
   ]
  },
  {
   "cell_type": "code",
   "execution_count": 42,
   "metadata": {},
   "outputs": [
    {
     "name": "stdout",
     "output_type": "stream",
     "text": [
      "Type of b1: Vector{Int64}\n",
      "Type of b2: Vector{Int64}\n",
      "Type of b3: Matrix{Int64}\n"
     ]
    }
   ],
   "source": [
    "b1 = [1, 2, 3]\n",
    "b2 = [1; 2; 3]\n",
    "b3 = [1 2 3]\n",
    "println(\"Type of b1: \", typeof(b1))\n",
    "println(\"Type of b2: \", typeof(b2))\n",
    "println(\"Type of b3: \", typeof(b3))"
   ]
  },
  {
   "cell_type": "markdown",
   "metadata": {},
   "source": [
    "## Array comprehensions, undefined arrays and array preallocation\n",
    "\n",
    "Of course there are many different ways to construct arrays other than explicit construction, for instance array comprehensions:\n"
   ]
  },
  {
   "cell_type": "code",
   "execution_count": 44,
   "metadata": {},
   "outputs": [
    {
     "data": {
      "text/plain": [
       "1.643934566681561"
      ]
     },
     "metadata": {},
     "output_type": "display_data"
    }
   ],
   "source": [
    "# the semicolon at the end suppresses the output\n",
    "# we are creating a vector of inverse squares of integers from 1 to 1000\n",
    "vec = [1/i^2 for i in 1:1000];\n",
    "# let's sum this up\n",
    "sum(vec)"
   ]
  },
  {
   "cell_type": "markdown",
   "metadata": {},
   "source": [
    "If parentheses are used instead of square brackets, a *generator* object is created. This may sometimes help with the performance, as a generator is not evaluated untill needed. "
   ]
  },
  {
   "cell_type": "code",
   "execution_count": 45,
   "metadata": {},
   "outputs": [
    {
     "data": {
      "text/plain": [
       "1.6439345666815615"
      ]
     },
     "metadata": {},
     "output_type": "display_data"
    }
   ],
   "source": [
    "genvec = (1/i^2 for i in 1:1000)\n",
    "sum(genvec)"
   ]
  },
  {
   "cell_type": "markdown",
   "metadata": {},
   "source": [
    "Let's benchmark the two approaches:"
   ]
  },
  {
   "cell_type": "code",
   "execution_count": 66,
   "metadata": {},
   "outputs": [
    {
     "name": "stdout",
     "output_type": "stream",
     "text": [
      "  6.100 μs (2 allocations: 78.17 KiB)\n"
     ]
    },
    {
     "data": {
      "text/plain": [
       "1.6448340718480614"
      ]
     },
     "metadata": {},
     "output_type": "display_data"
    }
   ],
   "source": [
    "@btime sum([1/i^2 for i in 1:10000])"
   ]
  },
  {
   "cell_type": "code",
   "execution_count": 67,
   "metadata": {},
   "outputs": [
    {
     "name": "stdout",
     "output_type": "stream",
     "text": [
      "  9.666 μs (0 allocations: 0 bytes)\n"
     ]
    },
    {
     "data": {
      "text/plain": [
       "1.6448340718480652"
      ]
     },
     "metadata": {},
     "output_type": "display_data"
    }
   ],
   "source": [
    "@btime sum((1/i^2 for i in 1:10000))"
   ]
  },
  {
   "cell_type": "markdown",
   "metadata": {},
   "source": [
    "While the former method is faster, it also allocates more. In general, it is advisable to benchmark you code snippets this way to see what yields optimal performance.\n",
    "\n",
    "For performance reasons, it is typically recommended to initialize arrays of a given type (and size) without any values (not even zeros). To do this, we use keywords such as `Vector{T}, Matrix{T}, Array{T}`, where `T` is a given type, such as `Float64` or `Int64`. The syntax is as follows:"
   ]
  },
  {
   "cell_type": "code",
   "execution_count": 73,
   "metadata": {},
   "outputs": [],
   "source": [
    "n = 10\n",
    "A0 = Array{Float64}(undef, n, n);\n",
    "A1 = Array{Float64, 2}(undef, n, n);\n",
    "A2 = Matrix{Int64}(undef, n, n);\n",
    "\n",
    "V0 = Vector{Float64}(undef, n);"
   ]
  },
  {
   "cell_type": "markdown",
   "metadata": {},
   "source": [
    "The above approach will reserve a certain portion of memory for the containers in advance. As it is not initializing them, this saves some time. But beware, as it may also lead to unwelcome surprises later down the road if you assume the existence of some sensible values (in short: do not assume they were initialized to zero, they may just as well be some gibberish, this can be system and compiler dependent).\n",
    "\n",
    "To show where this is useful, consider filling a vector with a known number of elements, first using preallocation, then without it. "
   ]
  },
  {
   "cell_type": "code",
   "execution_count": 111,
   "metadata": {},
   "outputs": [
    {
     "name": "stdout",
     "output_type": "stream",
     "text": [
      "  19.709 μs (0 allocations: 0 bytes)\n"
     ]
    }
   ],
   "source": [
    "n = 100000\n",
    "@btime begin\n",
    "   # apparently, using eachindex is also important\n",
    "   # as it makes a difference compared to 1:n looping\n",
    "   @inbounds for i in eachindex(V1)\n",
    "         V1[i] = i\n",
    "   end\n",
    "end setup=(V1 = Vector{Int64}(undef, n))"
   ]
  },
  {
   "cell_type": "code",
   "execution_count": 113,
   "metadata": {},
   "outputs": [
    {
     "name": "stdout",
     "output_type": "stream",
     "text": [
      "  4.540 ms (298989 allocations: 7.92 MiB)\n"
     ]
    }
   ],
   "source": [
    "# now without the preallocation\n",
    "V2 = Int64[]\n",
    "@btime begin\n",
    "    for i in 1:n\n",
    "        push!(V2, i)\n",
    "    end\n",
    "end setup=(V2 = Int64[])"
   ]
  },
  {
   "cell_type": "markdown",
   "metadata": {},
   "source": [
    "That appears as a huge difference, both in time and memory. Again, it is important to benchmark your code snippets, as the outcomes are sometimes surprising at a first glance (to be honest, sometimes even after a prolonged stare).\n",
    "\n",
    "Finally, there is this little trick which we will keep coming back to:"
   ]
  },
  {
   "cell_type": "code",
   "execution_count": 120,
   "metadata": {},
   "outputs": [
    {
     "name": "stdout",
     "output_type": "stream",
     "text": [
      "  23.542 μs (4 allocations: 128 bytes)\n"
     ]
    }
   ],
   "source": [
    "# case 1\n",
    "n = 100000\n",
    "# note the dot syntax\n",
    "@btime V3 .= 1:n setup=(V3 = Vector{Int64}(undef, n));"
   ]
  },
  {
   "cell_type": "markdown",
   "metadata": {},
   "source": [
    "We will return back to Julia's [dot syntax for vectorizing functions](https://docs.julialang.org/en/v1/manual/functions/#man-vectorized) shortly. Note that to initialize arrays to zero values, one can use:"
   ]
  },
  {
   "cell_type": "code",
   "execution_count": 119,
   "metadata": {},
   "outputs": [
    {
     "data": {
      "text/plain": [
       "10×10 Matrix{Float64}:\n",
       " 0.0  0.0  0.0  0.0  0.0  0.0  0.0  0.0  0.0  0.0\n",
       " 0.0  0.0  0.0  0.0  0.0  0.0  0.0  0.0  0.0  0.0\n",
       " 0.0  0.0  0.0  0.0  0.0  0.0  0.0  0.0  0.0  0.0\n",
       " 0.0  0.0  0.0  0.0  0.0  0.0  0.0  0.0  0.0  0.0\n",
       " 0.0  0.0  0.0  0.0  0.0  0.0  0.0  0.0  0.0  0.0\n",
       " 0.0  0.0  0.0  0.0  0.0  0.0  0.0  0.0  0.0  0.0\n",
       " 0.0  0.0  0.0  0.0  0.0  0.0  0.0  0.0  0.0  0.0\n",
       " 0.0  0.0  0.0  0.0  0.0  0.0  0.0  0.0  0.0  0.0\n",
       " 0.0  0.0  0.0  0.0  0.0  0.0  0.0  0.0  0.0  0.0\n",
       " 0.0  0.0  0.0  0.0  0.0  0.0  0.0  0.0  0.0  0.0"
      ]
     },
     "metadata": {},
     "output_type": "display_data"
    }
   ],
   "source": [
    "# as said before, sometimes the compiler will\n",
    "# also initialize undef to zeros, but it's best\n",
    "# not to expect it to avoid headaches.\n",
    "zeroarr = zeros(Float64, 10, 10)"
   ]
  },
  {
   "cell_type": "markdown",
   "metadata": {},
   "source": [
    "## Vectorization via the dot syntax\n",
    "\n",
    "*Any* Julia function can be applied elementwise to any array (or other collection) using the syntax `f.(A)`. Following the official docs:"
   ]
  },
  {
   "cell_type": "code",
   "execution_count": 123,
   "metadata": {},
   "outputs": [
    {
     "data": {
      "text/plain": [
       "3×3 Matrix{Float64}:\n",
       "  0.841471   0.909297   0.14112\n",
       " -0.756802  -0.958924  -0.279415\n",
       "  0.656987   0.989358   0.412118"
      ]
     },
     "metadata": {},
     "output_type": "display_data"
    }
   ],
   "source": [
    "A = [1. 2. 3.; 4. 5. 6.; 7. 8. 9.]\n",
    "\n",
    "sin.(A)"
   ]
  },
  {
   "cell_type": "markdown",
   "metadata": {},
   "source": [
    "Consult the docs for a more thorough explanation, we'll make do with some examples here:"
   ]
  },
  {
   "cell_type": "code",
   "execution_count": 130,
   "metadata": {},
   "outputs": [],
   "source": [
    "f(x, y) = 3x + 4y;\n",
    "\n",
    "A = [1., 2., 3.]\n",
    "B = [4., 5., 6.]\n",
    "\n",
    "r1 = f.(A, B);\n",
    "r2 = f.(π, B);\n"
   ]
  },
  {
   "cell_type": "markdown",
   "metadata": {},
   "source": [
    "If possible, multiple dotted operations will be *fused* into a single one. In plain terms, this is beneficial, as allocations of intermediate arrays are usually skipped. "
   ]
  },
  {
   "cell_type": "code",
   "execution_count": 137,
   "metadata": {},
   "outputs": [
    {
     "data": {
      "text/plain": [
       "true"
      ]
     },
     "metadata": {},
     "output_type": "display_data"
    }
   ],
   "source": [
    "y(x) = x^2\n",
    "h(x) = cos(x)\n",
    "\n",
    "y.(h.(A))\n",
    "# this would achieve the same as\n",
    "broadcast(x -> y(h(x)), A) == y.(h.(A))"
   ]
  },
  {
   "cell_type": "markdown",
   "metadata": {},
   "source": [
    "Benchmarks below are to prove these methods are comparable/the same in terms of performance. This also goes on to show that quite often, vectorization isn't even needed in Julia, as \"for loops are fast\" (with some caveats)."
   ]
  },
  {
   "cell_type": "code",
   "execution_count": 156,
   "metadata": {},
   "outputs": [
    {
     "name": "stdout",
     "output_type": "stream",
     "text": [
      "  62.500 μs (2 allocations: 78.17 KiB)\n"
     ]
    }
   ],
   "source": [
    "@btime y.(h.(X)) setup=(X=collect(1:10000));"
   ]
  },
  {
   "cell_type": "code",
   "execution_count": 157,
   "metadata": {},
   "outputs": [
    {
     "name": "stdout",
     "output_type": "stream",
     "text": [
      "  62.458 μs (2 allocations: 78.17 KiB)\n"
     ]
    }
   ],
   "source": [
    "@btime broadcast(x -> y(h(x)), X) setup = (X=collect(1:10000));"
   ]
  },
  {
   "cell_type": "code",
   "execution_count": 158,
   "metadata": {},
   "outputs": [
    {
     "name": "stdout",
     "output_type": "stream",
     "text": [
      "  62.542 μs (2 allocations: 78.17 KiB)\n"
     ]
    }
   ],
   "source": [
    "# compare this to\n",
    "@btime [y(h(x)) for x in X] setup=(X=collect(1:10000));"
   ]
  },
  {
   "cell_type": "code",
   "execution_count": 23,
   "metadata": {},
   "outputs": [
    {
     "data": {
      "text/plain": [
       "fdot (generic function with 1 method)"
      ]
     },
     "metadata": {},
     "output_type": "display_data"
    }
   ],
   "source": [
    "f(x) = 3x.^2 + 4x + 7x.^3\n",
    "\n",
    "\n",
    "fdot(x) = @. 3x^2 + 4x + 7x^3"
   ]
  },
  {
   "cell_type": "code",
   "execution_count": 25,
   "metadata": {},
   "outputs": [
    {
     "name": "stdout",
     "output_type": "stream",
     "text": [
      "  469.595 ns (1 allocation: 7.94 KiB)\n"
     ]
    }
   ],
   "source": [
    "@btime fdot(x);"
   ]
  },
  {
   "cell_type": "code",
   "execution_count": 26,
   "metadata": {},
   "outputs": [
    {
     "name": "stdout",
     "output_type": "stream",
     "text": [
      "  2.073 μs (6 allocations: 47.62 KiB)\n"
     ]
    }
   ],
   "source": [
    "@btime f(x);"
   ]
  },
  {
   "cell_type": "code",
   "execution_count": 27,
   "metadata": {},
   "outputs": [
    {
     "name": "stdout",
     "output_type": "stream",
     "text": [
      "  732.582 ns (3 allocations: 7.97 KiB)\n"
     ]
    }
   ],
   "source": [
    "@btime f.(x);"
   ]
  },
  {
   "cell_type": "markdown",
   "metadata": {},
   "source": []
  },
  {
   "cell_type": "markdown",
   "metadata": {},
   "source": []
  }
 ],
 "metadata": {
  "kernelspec": {
   "display_name": "Julia 1.9.4",
   "language": "julia",
   "name": "julia-1.9"
  },
  "language_info": {
   "file_extension": ".jl",
   "mimetype": "application/julia",
   "name": "julia",
   "version": "1.9.4"
  }
 },
 "nbformat": 4,
 "nbformat_minor": 2
}
